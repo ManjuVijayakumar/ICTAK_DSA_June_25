{
 "cells": [
  {
   "cell_type": "markdown",
   "id": "6cba3d13-1af5-4964-b978-66ead3556696",
   "metadata": {},
   "source": [
    "#### 1. Analyzing Sales Data in an E-commerce Store\n",
    "Context\n",
    "You are a Data Analyst at \"ShopEase,\" an online retail store. The company wants a preliminary analysis of customer purchases to identify trends and automate simple summary analytics. You have been provided with a basic CSV of sales transactions (to be simulated by creating a list of dictionaries in Python)."
   ]
  },
  {
   "cell_type": "markdown",
   "id": "4078ffba-3813-46df-aadc-1b32fc9fc77f",
   "metadata": {},
   "source": [
    "##### 1.1 Simulate a dataset of 10 sales records as a list of dictionaries.<br> Each sale should contain: order_id (int), customer (str), item (str), quantity (int), price_per_item (float, in INR), order_date (str, 'YYYY-MM-DD')\n",
    "Task:\n",
    "Write a snippet to create this data. Print out the dataset."
   ]
  },
  {
   "cell_type": "code",
   "execution_count": 75,
   "id": "ea8369b8-9576-46d8-aa96-ae50f13e0ea3",
   "metadata": {},
   "outputs": [],
   "source": [
    "# Creating a list of dictionary for storing customer order detail\n",
    "\n",
    "sales_record = [\n",
    "        {'order_id' : 1001, 'customer' : 'John', 'item' : 'battery', 'quantity' : 10, 'price_per_item' : 120.00, 'order_date' : '2025-03-01'}, \n",
    "        {'order_id' : 1002, 'customer' : 'Mark', 'item' : 'broom','quantity' : 100, 'price_per_item' : 40.00, 'order_date' : '2025-03-01'},\n",
    "        {'order_id' : 1003, 'customer' : 'Rachel', 'item' : 'toy car', 'quantity' : 5, 'price_per_item' : 200.00, 'order_date' : '2025-03-03'},\n",
    "        {'order_id' : 1004, 'customer' : 'Hannah', 'item' : 'emergency lamp', 'quantity' : 5, 'price_per_item' : 1000.00, 'order_date' : '2025-03-04'},\n",
    "        {'order_id' : 1005, 'customer' : 'Joel', 'item' : 'tubelight', 'quantity' : 8, 'price_per_item' : 50.00, 'order_date' : '2025-03-04'},\n",
    "        {'order_id' : 1006, 'customer' : 'Jerome', 'item' : 'holder', 'quantity' : 35, 'price_per_item' : 120.00, 'order_date' : '2025-03-04'},\n",
    "        {'order_id' : 1007, 'customer' : 'Becky', 'item' : 'cabinet', 'quantity' : 1, 'price_per_item' : 1200.00, 'order_date' : '2025-03-05'},\n",
    "        {'order_id' : 1008, 'customer' : 'Robert', 'item' : 'plastic sheet', 'quantity' : 5, 'price_per_item' : 500.00, 'order_date' : '2025-03-06'},\n",
    "        {'order_id' : 1009, 'customer' : 'Ron', 'item' : 'notebook', 'quantity' : 7, 'price_per_item' : 120.90, 'order_date' : '2025-03-07'},\n",
    "        {'order_id' : 1010, 'customer' : 'Victor', 'item' : 'chair', 'quantity' : 4, 'price_per_item' : 500.00, 'order_date' : '2025-03-07'}\n",
    "]\n",
    "\n",
    "# print(sales_record)"
   ]
  },
  {
   "cell_type": "code",
   "execution_count": 29,
   "id": "2620813b-fc54-4f1e-9e5c-bfe6c70a887f",
   "metadata": {},
   "outputs": [
    {
     "name": "stdout",
     "output_type": "stream",
     "text": [
      "[{'order_id': 1001, 'customer': 'John', 'item': 'battery', 'quantity': 10, 'price_per_item': 120.0, 'order_date': '2025-03-01'}, {'order_id': 1002, 'customer': 'Mark', 'item': 'broom', 'quantity': 100, 'price_per_item': 40.0, 'order_date': '2025-03-01'}, {'order_id': 1003, 'customer': 'Rachel', 'item': 'toy car', 'quantity': 5, 'price_per_item': 200.0, 'order_date': '2025-03-03'}, {'order_id': 1004, 'customer': 'Hannah', 'item': 'emergency lamp', 'quantity': 5, 'price_per_item': 1000.0, 'order_date': '2025-03-04'}, {'order_id': 1005, 'customer': 'Joel', 'item': 'tubelight', 'quantity': 8, 'price_per_item': 50.0, 'order_date': '2025-03-04'}, {'order_id': 1006, 'customer': 'Jerome', 'item': 'holder', 'quantity': 35, 'price_per_item': 120.0, 'order_date': '2025-03-04'}, {'order_id': 1007, 'customer': 'Becky', 'item': 'cabinet', 'quantity': 1, 'price_per_item': 1200.0, 'order_date': '2025-03-05'}, {'order_id': 1008, 'customer': 'Robert', 'item': 'plastic sheet', 'quantity': 5, 'price_per_item': 500.0, 'order_date': '2025-03-06'}, {'order_id': 1009, 'customer': 'Ron', 'item': 'notebook', 'quantity': 7, 'price_per_item': 120.9, 'order_date': '2025-03-07'}, {'order_id': 1010, 'customer': 'Victor', 'item': 'chair', 'quantity': 4, 'price_per_item': 500.0, 'order_date': '2025-03-07'}]\n"
     ]
    }
   ],
   "source": [
    "print(sales_record) # 17300 4200"
   ]
  },
  {
   "cell_type": "markdown",
   "id": "a95eeed9-8148-4063-ba33-bb457e84faf1",
   "metadata": {},
   "source": [
    "##### 2.1 Calculate the total revenue for the store (sum of all quantities × price per item)."
   ]
  },
  {
   "cell_type": "code",
   "execution_count": 30,
   "id": "28a2e599-2edf-4358-9ba5-c7f2cfa85cc0",
   "metadata": {},
   "outputs": [],
   "source": [
    "import numpy as np"
   ]
  },
  {
   "cell_type": "code",
   "execution_count": 31,
   "id": "956d4df8-ac53-4c4b-a858-e1bb359d5e6d",
   "metadata": {},
   "outputs": [
    {
     "name": "stdout",
     "output_type": "stream",
     "text": [
      "Total revenue for the store : ₹22346.0\n"
     ]
    }
   ],
   "source": [
    "total_revenue = 0\n",
    "\n",
    "for sales in sales_record:\n",
    "    total_revenue += np.sum(sales['quantity'] * sales['price_per_item'])\n",
    "\n",
    "\n",
    "print('Total revenue for the store : ₹{}'.format(round(total_revenue, 0)))"
   ]
  },
  {
   "cell_type": "markdown",
   "id": "40a8d424-e92a-4cdf-bc66-ab682b654881",
   "metadata": {},
   "source": [
    "##### 2.2 Identify all orders where the total order value (quantity × price per item) exceeds ₹2,000. Store the result as a new list."
   ]
  },
  {
   "cell_type": "code",
   "execution_count": 32,
   "id": "967af6ca-d70d-445e-8fb0-f0af194d86b3",
   "metadata": {},
   "outputs": [
    {
     "name": "stdout",
     "output_type": "stream",
     "text": [
      "Orders where the total order value exceeds ₹2000 are:\n",
      "[{'order_id': 1002, 'customer': 'Mark', 'item': 'broom', 'quantity': 100, 'price_per_item': 40.0, 'order_date': '2025-03-01'}, {'order_id': 1004, 'customer': 'Hannah', 'item': 'emergency lamp', 'quantity': 5, 'price_per_item': 1000.0, 'order_date': '2025-03-04'}, {'order_id': 1006, 'customer': 'Jerome', 'item': 'holder', 'quantity': 35, 'price_per_item': 120.0, 'order_date': '2025-03-04'}, {'order_id': 1008, 'customer': 'Robert', 'item': 'plastic sheet', 'quantity': 5, 'price_per_item': 500.0, 'order_date': '2025-03-06'}]\n"
     ]
    }
   ],
   "source": [
    "total_order_value_gt_2000 = []\n",
    "\n",
    "for sales in sales_record:\n",
    "    if ((sales['quantity'] * sales['price_per_item']) > 2000):\n",
    "        total_order_value_gt_2000.append(sales)\n",
    "\n",
    "print('Orders where the total order value exceeds ₹2000 are:')\n",
    "print(total_order_value_gt_2000)"
   ]
  },
  {
   "cell_type": "markdown",
   "id": "e4776246-a428-460e-854d-4eadeadb4bd5",
   "metadata": {},
   "source": [
    "##### 2.3 Find the item with the highest total quantity sold across all orders."
   ]
  },
  {
   "cell_type": "code",
   "execution_count": 35,
   "id": "dc355732-b319-4fad-a5ce-8fd4c9b8cf6e",
   "metadata": {},
   "outputs": [
    {
     "name": "stdout",
     "output_type": "stream",
     "text": [
      "Item with highest total quantity sold is broom - Total Quantity sold is 100.\n"
     ]
    }
   ],
   "source": [
    "highest_qty = 0\n",
    "item_name = ''\n",
    "\n",
    "for sales in sales_record:\n",
    "    if (sales['quantity'] > highest_qty):\n",
    "        highest_qty = sales['quantity']\n",
    "        item_name = sales['item']\n",
    "\n",
    "print('Item with highest total quantity sold is {} - Total Quantity sold is {}.'.format(item_name, highest_qty))"
   ]
  },
  {
   "cell_type": "markdown",
   "id": "8bf99a05-6550-4932-bab7-e89bdbe80811",
   "metadata": {},
   "source": [
    "##### 3.1 Write a function apply_discount(orders, discount_rate) that takes a list of orders and applies a percentage discount (e.g., 10% = 0.10) to the price_per_item for each order. <br> \n",
    "Return a new list of orders (do not modify the original list).\n"
   ]
  },
  {
   "cell_type": "code",
   "execution_count": 76,
   "id": "8e3c55ce-7d4e-487e-b9f6-500cda050d7a",
   "metadata": {},
   "outputs": [],
   "source": [
    "# Function to apply discount \n",
    "\n",
    "def apply_discount(order_list, discount_perc): \n",
    "    for item in order_list:\n",
    "        item['percentage_disc'] = round(item['price_per_item'] * (discount_perc / 100), 2)\n",
    "\n",
    "    # print(sales_record_with_discount_rate)"
   ]
  },
  {
   "cell_type": "code",
   "execution_count": 77,
   "id": "27ff3fcc-3a2c-4158-966c-bd96ff075a86",
   "metadata": {},
   "outputs": [],
   "source": [
    "# To save independant copy of the list\n",
    "import copy\n",
    "\n",
    "sales_record_with_discount_rate = copy.deepcopy(sales_record)"
   ]
  },
  {
   "cell_type": "code",
   "execution_count": 78,
   "id": "f6a23df5-7b50-4c16-8688-be41332d2976",
   "metadata": {},
   "outputs": [],
   "source": [
    "apply_discount(sales_record_with_discount_rate, 10)"
   ]
  },
  {
   "cell_type": "code",
   "execution_count": 80,
   "id": "dfecacdb-1fc1-481d-a1b4-e79a40cd874e",
   "metadata": {},
   "outputs": [
    {
     "name": "stdout",
     "output_type": "stream",
     "text": [
      "[{'order_id': 1001, 'customer': 'John', 'item': 'battery', 'quantity': 10, 'price_per_item': 120.0, 'order_date': '2025-03-01', 'percentage_disc': 12.0}, {'order_id': 1002, 'customer': 'Mark', 'item': 'broom', 'quantity': 100, 'price_per_item': 40.0, 'order_date': '2025-03-01', 'percentage_disc': 4.0}, {'order_id': 1003, 'customer': 'Rachel', 'item': 'toy car', 'quantity': 5, 'price_per_item': 200.0, 'order_date': '2025-03-03', 'percentage_disc': 20.0}, {'order_id': 1004, 'customer': 'Hannah', 'item': 'emergency lamp', 'quantity': 5, 'price_per_item': 1000.0, 'order_date': '2025-03-04', 'percentage_disc': 100.0}, {'order_id': 1005, 'customer': 'Joel', 'item': 'tubelight', 'quantity': 8, 'price_per_item': 50.0, 'order_date': '2025-03-04', 'percentage_disc': 5.0}, {'order_id': 1006, 'customer': 'Jerome', 'item': 'holder', 'quantity': 35, 'price_per_item': 120.0, 'order_date': '2025-03-04', 'percentage_disc': 12.0}, {'order_id': 1007, 'customer': 'Becky', 'item': 'cabinet', 'quantity': 1, 'price_per_item': 1200.0, 'order_date': '2025-03-05', 'percentage_disc': 120.0}, {'order_id': 1008, 'customer': 'Robert', 'item': 'plastic sheet', 'quantity': 5, 'price_per_item': 500.0, 'order_date': '2025-03-06', 'percentage_disc': 50.0}, {'order_id': 1009, 'customer': 'Ron', 'item': 'notebook', 'quantity': 7, 'price_per_item': 120.9, 'order_date': '2025-03-07', 'percentage_disc': 12.09}, {'order_id': 1010, 'customer': 'Victor', 'item': 'chair', 'quantity': 4, 'price_per_item': 500.0, 'order_date': '2025-03-07', 'percentage_disc': 50.0}]\n"
     ]
    }
   ],
   "source": [
    "print(sales_record_with_discount_rate)"
   ]
  },
  {
   "cell_type": "markdown",
   "id": "d3ad282b-d9c6-4985-b7bb-cfaf1620d8c2",
   "metadata": {},
   "source": [
    "##### 3.2 Explain, with a code example in your script, the difference between local and global variable scope in Python."
   ]
  },
  {
   "cell_type": "code",
   "execution_count": 98,
   "id": "7ac12f4d-382d-4caa-b290-5ca81b61bc6b",
   "metadata": {},
   "outputs": [],
   "source": [
    "x_var = 150\n",
    "\n",
    "def temp_func():\n",
    "    x_inside = 200"
   ]
  },
  {
   "cell_type": "code",
   "execution_count": 90,
   "id": "f357156f-f3ac-4752-a0cc-76f4342272fa",
   "metadata": {},
   "outputs": [
    {
     "name": "stdout",
     "output_type": "stream",
     "text": [
      "150\n"
     ]
    }
   ],
   "source": [
    "print(x_var)"
   ]
  },
  {
   "cell_type": "code",
   "execution_count": 96,
   "id": "946bf435-7e5a-4808-a099-569ec892e3d5",
   "metadata": {
    "scrolled": true
   },
   "outputs": [
    {
     "ename": "NameError",
     "evalue": "name 'x_inside' is not defined",
     "output_type": "error",
     "traceback": [
      "\u001b[1;31m---------------------------------------------------------------------------\u001b[0m",
      "\u001b[1;31mNameError\u001b[0m                                 Traceback (most recent call last)",
      "Cell \u001b[1;32mIn[96], line 1\u001b[0m\n\u001b[1;32m----> 1\u001b[0m \u001b[38;5;28mprint\u001b[39m(x_inside)\n",
      "\u001b[1;31mNameError\u001b[0m: name 'x_inside' is not defined"
     ]
    }
   ],
   "source": [
    "print(x_inside)"
   ]
  },
  {
   "cell_type": "markdown",
   "id": "b003fddf-e4f1-4d53-8a55-ff2148ea3dd7",
   "metadata": {},
   "source": [
    "x_var is a global variable since it can be assessed anywhere in the program. x_inside is a local variable which cannot be accessed from outside function."
   ]
  },
  {
   "cell_type": "markdown",
   "id": "fb695433-03cd-42dd-a77c-261614a585fc",
   "metadata": {},
   "source": [
    "##### 4.1 Write a custom iterator class OrderIterator to iterate through the orders, yielding one order at a time."
   ]
  },
  {
   "cell_type": "code",
   "execution_count": 82,
   "id": "0b9a0734-b3b9-4246-832d-0abd3c3dc2d3",
   "metadata": {},
   "outputs": [],
   "source": [
    "class OrderIterator:\n",
    "    def __init__(self, orders):\n",
    "        self.orders = orders\n",
    "        self.index = 0\n",
    "\n",
    "    def __iter__(self):\n",
    "        return self\n",
    "\n",
    "    def __next__(self):\n",
    "        if (self.index < len(self.orders)):\n",
    "            order = self.orders[self.index]\n",
    "            self.index += 1\n",
    "            return order           "
   ]
  },
  {
   "cell_type": "code",
   "execution_count": 83,
   "id": "a2bdc0d9-18b0-43b6-b210-e848e5a55ce5",
   "metadata": {},
   "outputs": [],
   "source": [
    "obj = OrderIterator(sales_record) "
   ]
  },
  {
   "cell_type": "code",
   "execution_count": 84,
   "id": "a1c3d685-7b96-4f8b-8c4a-eca861eae5fa",
   "metadata": {},
   "outputs": [
    {
     "name": "stdout",
     "output_type": "stream",
     "text": [
      "{'order_id': 1001, 'customer': 'John', 'item': 'battery', 'quantity': 10, 'price_per_item': 120.0, 'order_date': '2025-03-01'}\n"
     ]
    }
   ],
   "source": [
    "print(next(obj))"
   ]
  },
  {
   "cell_type": "code",
   "execution_count": 85,
   "id": "f4c4f53e-7589-4aec-8b6e-e738f99bda51",
   "metadata": {},
   "outputs": [
    {
     "name": "stdout",
     "output_type": "stream",
     "text": [
      "{'order_id': 1002, 'customer': 'Mark', 'item': 'broom', 'quantity': 100, 'price_per_item': 40.0, 'order_date': '2025-03-01'}\n"
     ]
    }
   ],
   "source": [
    "print(next(obj))"
   ]
  },
  {
   "cell_type": "markdown",
   "id": "3c522d0f-7121-4d86-8299-b19f6553277a",
   "metadata": {},
   "source": [
    "##### 4.2 Create a dictionary grouping all orders by customer using a dictionary comprehension."
   ]
  },
  {
   "cell_type": "code",
   "execution_count": 88,
   "id": "d7545aa2-aa6f-461c-904d-3572774a17af",
   "metadata": {},
   "outputs": [
    {
     "name": "stdout",
     "output_type": "stream",
     "text": [
      "[{'order_id': 1001, 'customer': 'John', 'item': 'battery', 'quantity': 10, 'price_per_item': 120.0, 'order_date': '2025-03-01'}, {'order_id': 1002, 'customer': 'Mark', 'item': 'broom', 'quantity': 100, 'price_per_item': 40.0, 'order_date': '2025-03-01'}, {'order_id': 1003, 'customer': 'Rachel', 'item': 'toy car', 'quantity': 5, 'price_per_item': 200.0, 'order_date': '2025-03-03'}, {'order_id': 1004, 'customer': 'Hannah', 'item': 'emergency lamp', 'quantity': 5, 'price_per_item': 1000.0, 'order_date': '2025-03-04'}, {'order_id': 1005, 'customer': 'Joel', 'item': 'tubelight', 'quantity': 8, 'price_per_item': 50.0, 'order_date': '2025-03-04'}, {'order_id': 1006, 'customer': 'Jerome', 'item': 'holder', 'quantity': 35, 'price_per_item': 120.0, 'order_date': '2025-03-04'}, {'order_id': 1007, 'customer': 'Becky', 'item': 'cabinet', 'quantity': 1, 'price_per_item': 1200.0, 'order_date': '2025-03-05'}, {'order_id': 1008, 'customer': 'Robert', 'item': 'plastic sheet', 'quantity': 5, 'price_per_item': 500.0, 'order_date': '2025-03-06'}, {'order_id': 1009, 'customer': 'Ron', 'item': 'notebook', 'quantity': 7, 'price_per_item': 120.9, 'order_date': '2025-03-07'}, {'order_id': 1010, 'customer': 'Victor', 'item': 'chair', 'quantity': 4, 'price_per_item': 500.0, 'order_date': '2025-03-07'}]\n"
     ]
    }
   ],
   "source": [
    "print(sales_record)"
   ]
  },
  {
   "cell_type": "code",
   "execution_count": 99,
   "id": "422c42a1-e764-4824-a657-017917be257a",
   "metadata": {},
   "outputs": [
    {
     "ename": "NameError",
     "evalue": "name 'order_by_customer' is not defined",
     "output_type": "error",
     "traceback": [
      "\u001b[1;31m---------------------------------------------------------------------------\u001b[0m",
      "\u001b[1;31mNameError\u001b[0m                                 Traceback (most recent call last)",
      "Cell \u001b[1;32mIn[99], line 1\u001b[0m\n\u001b[1;32m----> 1\u001b[0m order_by_customer\n",
      "\u001b[1;31mNameError\u001b[0m: name 'order_by_customer' is not defined"
     ]
    }
   ],
   "source": [
    "order_by_customer = {\n",
    "    customer : [\n",
    "     { 'order_id': sales_record['order_id'], 'item' : sales_record['item'], 'quantity' : sales_record['quantity'], 'price_per_item' : sales_record['price_per_item'],\n",
    "         'order_date': sales_record['order_date']}\n",
    "    for order in sales_record if order['customer'] == customer\n",
    "    ]\n",
    "\n",
    "    for customer in cust\n",
    "    \n",
    "} "
   ]
  }
 ],
 "metadata": {
  "kernelspec": {
   "display_name": "Python 3 (ipykernel)",
   "language": "python",
   "name": "python3"
  },
  "language_info": {
   "codemirror_mode": {
    "name": "ipython",
    "version": 3
   },
   "file_extension": ".py",
   "mimetype": "text/x-python",
   "name": "python",
   "nbconvert_exporter": "python",
   "pygments_lexer": "ipython3",
   "version": "3.13.5"
  }
 },
 "nbformat": 4,
 "nbformat_minor": 5
}
