{
 "cells": [
  {
   "cell_type": "markdown",
   "id": "4b525a24-b14e-4f08-96bd-c7d91ed4d772",
   "metadata": {},
   "source": [
    "#### 1. Bank Account Manager <br>\n",
    "a. Simulate a bank account with deposit, withdrawal, and balance\n",
    "enquiry operations <br>\n",
    "b. Use variables and data types to store account information <br>\n",
    "c. Implement conditional statements to check for sufficient balance\n",
    "before withdrawal <br>\n",
    "d. Use functions to perform deposit, withdrawal, and balance inquiry operations"
   ]
  },
  {
   "cell_type": "code",
   "execution_count": 1,
   "id": "a3c55ce4-fe8c-49a2-99c5-849a8f5fba1a",
   "metadata": {},
   "outputs": [],
   "source": [
    "# Define a dictionary for storing Bank account number and Amount\n",
    "\n",
    "bank_account = {}"
   ]
  },
  {
   "cell_type": "code",
   "execution_count": 2,
   "id": "79a2bf01-7517-4a3a-8aef-c4fd749f3ade",
   "metadata": {},
   "outputs": [
    {
     "name": "stdout",
     "output_type": "stream",
     "text": [
      "\n",
      "Bank Account Manager\n",
      "--------------------\n",
      "1. Add new Account\n",
      "2. Balance Enquiry\n",
      "3. Deposit Money\n",
      "4. Withdraw Money\n",
      "5. Delete Account\n",
      "6. Exit\n",
      "\n"
     ]
    },
    {
     "name": "stdin",
     "output_type": "stream",
     "text": [
      "Enter the choice:  1\n",
      "Enter the Account number:  12340\n",
      "Enter the Initial amount:  1000\n"
     ]
    },
    {
     "name": "stdout",
     "output_type": "stream",
     "text": [
      "Account successfully created.\n",
      "\n",
      "Bank Account Manager\n",
      "--------------------\n",
      "1. Add new Account\n",
      "2. Balance Enquiry\n",
      "3. Deposit Money\n",
      "4. Withdraw Money\n",
      "5. Delete Account\n",
      "6. Exit\n",
      "\n"
     ]
    },
    {
     "name": "stdin",
     "output_type": "stream",
     "text": [
      "Enter the choice:  1\n",
      "Enter the Account number:  67890\n",
      "Enter the Initial amount:  220\n"
     ]
    },
    {
     "name": "stdout",
     "output_type": "stream",
     "text": [
      "Account successfully created.\n",
      "\n",
      "Bank Account Manager\n",
      "--------------------\n",
      "1. Add new Account\n",
      "2. Balance Enquiry\n",
      "3. Deposit Money\n",
      "4. Withdraw Money\n",
      "5. Delete Account\n",
      "6. Exit\n",
      "\n"
     ]
    },
    {
     "name": "stdin",
     "output_type": "stream",
     "text": [
      "Enter the choice:  2\n",
      "Enter the Account number:  12340\n"
     ]
    },
    {
     "name": "stdout",
     "output_type": "stream",
     "text": [
      "Account Details\n",
      "---------------\n",
      "Account Number: 12340 Amount: 1000.0\n",
      "\n",
      "Bank Account Manager\n",
      "--------------------\n",
      "1. Add new Account\n",
      "2. Balance Enquiry\n",
      "3. Deposit Money\n",
      "4. Withdraw Money\n",
      "5. Delete Account\n",
      "6. Exit\n",
      "\n"
     ]
    },
    {
     "name": "stdin",
     "output_type": "stream",
     "text": [
      "Enter the choice:  4\n",
      "Enter the Account number:  67890\n",
      "Enter the amount to be withdrawn: 500\n"
     ]
    },
    {
     "name": "stdout",
     "output_type": "stream",
     "text": [
      "Insufficient balance available. Amount available: 220.0\n",
      "\n",
      "Bank Account Manager\n",
      "--------------------\n",
      "1. Add new Account\n",
      "2. Balance Enquiry\n",
      "3. Deposit Money\n",
      "4. Withdraw Money\n",
      "5. Delete Account\n",
      "6. Exit\n",
      "\n"
     ]
    },
    {
     "name": "stdin",
     "output_type": "stream",
     "text": [
      "Enter the choice:  3\n",
      "Enter the Account number:  67890\n",
      "Enter the Initial amount:  500\n"
     ]
    },
    {
     "name": "stdout",
     "output_type": "stream",
     "text": [
      "Amount deposited. New balance is: 720.0\n",
      "\n",
      "Bank Account Manager\n",
      "--------------------\n",
      "1. Add new Account\n",
      "2. Balance Enquiry\n",
      "3. Deposit Money\n",
      "4. Withdraw Money\n",
      "5. Delete Account\n",
      "6. Exit\n",
      "\n"
     ]
    },
    {
     "name": "stdin",
     "output_type": "stream",
     "text": [
      "Enter the choice:  5\n",
      "Enter the Account number:  67890\n"
     ]
    },
    {
     "name": "stdout",
     "output_type": "stream",
     "text": [
      "Balance amount available. Cannot delete.\n",
      "Amount available: 720.0\n",
      "\n",
      "Bank Account Manager\n",
      "--------------------\n",
      "1. Add new Account\n",
      "2. Balance Enquiry\n",
      "3. Deposit Money\n",
      "4. Withdraw Money\n",
      "5. Delete Account\n",
      "6. Exit\n",
      "\n"
     ]
    },
    {
     "name": "stdin",
     "output_type": "stream",
     "text": [
      "Enter the choice:  6\n"
     ]
    },
    {
     "name": "stdout",
     "output_type": "stream",
     "text": [
      "Thank you. Visit again!\n"
     ]
    }
   ],
   "source": [
    "# Function to create a new bank account/deposit amount to existing account number\n",
    "\n",
    "def add_bank_account(choice_temp):\n",
    "    accnt_number = input('Enter the Account number: ')\n",
    "    accnt_amount = float(input('Enter the Initial amount: '))\n",
    "\n",
    "    if accnt_number in bank_account:\n",
    "        if (accnt_amount <= 0):\n",
    "            print('Account number exists. Enter a valid amount if deposit to be done. ')\n",
    "            return\n",
    "            \n",
    "        if (choice_temp == 1):\n",
    "            print('Account number already exists. Amount will be deposited.')\n",
    "            bank_account[accnt_number] += accnt_amount\n",
    "            print('Amount deposited. New balance is: {}'.format(bank_account[accnt_number]))\n",
    "            \n",
    "        if (choice_temp == 3):\n",
    "            bank_account[accnt_number] += accnt_amount\n",
    "            print('Amount deposited. New balance is: {}'.format(bank_account[accnt_number]))\n",
    "    else:\n",
    "        bank_account[accnt_number] = accnt_amount\n",
    "        print('Account successfully created.')\n",
    "\n",
    "# Function for Balance Enquiry by providing bank account number\n",
    "def bal_enquiry_bank_account():\n",
    "    accnt_number = input('Enter the Account number: ')\n",
    "\n",
    "    if accnt_number not in bank_account :\n",
    "        print('Invalid Account number provided. Re-check. ')\n",
    "    else:\n",
    "        print('Account Details')\n",
    "        print('---------------')\n",
    "        print('Account Number: {} Amount: {}'.format(accnt_number, bank_account[accnt_number]))\n",
    "\n",
    "# Function for deleting an Account which is longer valid\n",
    "def delete_bank_account():\n",
    "    accnt_number = input('Enter the Account number: ')\n",
    "    if accnt_number not in bank_account:\n",
    "        print('Account number does not exist. Please re-check.')\n",
    "    else:\n",
    "        if bank_account[accnt_number] > 0:\n",
    "            print('Balance amount available. Cannot delete.')\n",
    "            print('Amount available: {}'.format(bank_account[accnt_number]))\n",
    "        else:\n",
    "            del bank_account[accnt_number]\n",
    "            print('Account number deleted successfully.')\n",
    "\n",
    "# Function for money withdrawal\n",
    "def withdraw_bank_account():\n",
    "    accnt_number = input('Enter the Account number: ')\n",
    "    accnt_amount = float(input('Enter the amount to be withdrawn:'))\n",
    "    if bank_account[accnt_number] < accnt_amount:\n",
    "        print('Insufficient balance available. Amount available: {}'.format(bank_account[accnt_number]))\n",
    "    else:\n",
    "        bank_account[accnt_number] -= accnt_amount\n",
    "        print('Transaction completed.')\n",
    "        print('Available balance:{}'.format(bank_account[accnt_number]))\n",
    "\n",
    "\n",
    "# Main program\n",
    "\n",
    "while True:\n",
    "    print(\"\")\n",
    "    print(\"Bank Account Manager\")\n",
    "    print(\"--------------------\")\n",
    "    print(\"1. Add new Account\")\n",
    "    print(\"2. Balance Enquiry\")\n",
    "    print(\"3. Deposit Money\")\n",
    "    print(\"4. Withdraw Money\")\n",
    "    print(\"5. Delete Account\")\n",
    "    print(\"6. Exit\")\n",
    "\n",
    "    print(\"\")\n",
    "    choice = int(input('Enter the choice: '))\n",
    "\n",
    "    if (choice == 1):\n",
    "        add_bank_account(choice)\n",
    "    elif (choice == 2):\n",
    "        bal_enquiry_bank_account()\n",
    "    elif (choice == 3):\n",
    "        add_bank_account(choice)\n",
    "    elif (choice == 4):\n",
    "        withdraw_bank_account()\n",
    "    elif (choice == 5):\n",
    "        delete_bank_account()\n",
    "    elif (choice == 6):\n",
    "        print('Thank you. Visit again!')\n",
    "        break\n",
    "    else:\n",
    "        print('Invalid choice entered. Re-check.')"
   ]
  },
  {
   "cell_type": "markdown",
   "id": "a6d47b84-cc5f-46f7-991a-5884ed13638b",
   "metadata": {},
   "source": [
    "#### 2. Weather Data Analyzer <br>\n",
    "a. Analyze weather data (temperature, humidity, etc.) for a given region <br>\n",
    "b. Use variables and data types to store weather data <br>\n",
    "c. Implement conditional statements to determine weather conditions\n",
    "(sunny, rainy, etc.) <br>\n",
    "d. Use functions to calculate average temperature and humidity, and print\n",
    "results"
   ]
  },
  {
   "cell_type": "code",
   "execution_count": 11,
   "id": "92745432-1e4a-483f-ba09-53f3cf7e9d22",
   "metadata": {},
   "outputs": [
    {
     "name": "stdout",
     "output_type": "stream",
     "text": [
      "Weather Data Analyzer\n",
      "---------------------\n"
     ]
    },
    {
     "name": "stdin",
     "output_type": "stream",
     "text": [
      "Enter the name of your Region: Chalakudy\n",
      "Please enter the number of days for which you wish to enter the weather data : 3\n",
      "Enter the temperatures for each day, separated by spaces (°C) : 26 27 29\n",
      "Enter the humidiy for each day, separated by spaces (%) : 29 28 30\n",
      "Enter the wind speed for each day, separated by spaces (km/h) : 6 4 5\n"
     ]
    },
    {
     "name": "stdout",
     "output_type": "stream",
     "text": [
      "Avg. Temperature(°C)  Avg. Humidity(%)  Avg. Wind(km/h)  Condition \n",
      "27.0                  29.0              5.0              Cool      \n"
     ]
    }
   ],
   "source": [
    "# Base program for getting input from the user regarding the temperature, humidity and wind speed of Region\n",
    "\n",
    "print(\"Weather Data Analyzer\")\n",
    "print(\"---------------------\")\n",
    "\n",
    "# List initialisation\n",
    "temperature = []\n",
    "humidity = []\n",
    "wind_speed = []\n",
    "\n",
    "# Input from user\n",
    "region_name = input('Enter the name of your Region:')\n",
    "no_of_days = int(input('Please enter the number of days for which you wish to enter the weather data :'))\n",
    "\n",
    "temperature = input('Enter the temperatures for each day, separated by spaces (°C) :')\n",
    "temperature = list(map(float, temperature.split()))\n",
    "# print (temperature)\n",
    "\n",
    "humidity = input('Enter the humidiy for each day, separated by spaces (%) :')\n",
    "humidity = list(map(float, humidity.split()))\n",
    "\n",
    "wind_speed = input('Enter the wind speed for each day, separated by spaces (km/h) :')\n",
    "wind_speed = list(map(float, wind_speed.split()))\n",
    "\n",
    "# Function to find Average temperature\n",
    "def avg_temperature(dummy_temp):\n",
    "    return (sum(dummy_temp) / len(dummy_temp))\n",
    "\n",
    "# Function to find Average temperature\n",
    "def avg_humidity(dummy_humi):\n",
    "    return (sum(dummy_humi) / len(dummy_humi))\n",
    "\n",
    "# Function to find Average wind-speed\n",
    "def avg_windspeed(dummy_wspeed):\n",
    "    return (sum(dummy_wspeed) / len(dummy_wspeed))\n",
    "\n",
    "\n",
    "# Finding the average temperature, humidity, wind speed\n",
    "avg_temperature = avg_temperature(temperature)\n",
    "avg_humidity = avg_humidity(humidity)\n",
    "avg_wind_speed = avg_windspeed(wind_speed)\n",
    "\n",
    "weather_condition = ''\n",
    "\n",
    "# Analyzing weather condition\n",
    "if avg_temperature >= 35 and avg_humidity < 50 and avg_wind_speed < 10:\n",
    "    weather_condition = 'Heatwave'\n",
    "elif avg_humidity > 80 and wind_speed > 30:\n",
    "    weather_condition = 'Stormy' \n",
    "elif avg_wind_speed >= 20 and avg_humidity < 70:\n",
    "    weather_condition = 'Windy'\n",
    "elif avg_humidity > 75 and avg_temperature < 32:\n",
    "    weather_condition = 'Overcast'\n",
    "elif avg_temperature > 33 and avg_humidity < 60:\n",
    "    weather_condition = 'Sunny'\n",
    "elif avg_humidity > 75:\n",
    "    weather_condition = 'Rainy'\n",
    "elif avg_temperature < 30:\n",
    "    weather_condition = 'Cool'\n",
    "else:\n",
    "    weather_condition = 'Moderate'\n",
    "\n",
    "# print(\"{:<17} {:<14} {:<10} {<:10}\".format(\"Avg. Temperature\", \"Avg. Humidity\", \"Avg. Wind\", \"Condition\"))\n",
    "\n",
    "print(\"{:<21} {:<17} {:<16} {:<10}\".format(\"Avg. Temperature(°C)\", \"Avg. Humidity(%)\", \"Avg. Wind(km/h)\", \"Condition\"))\n",
    "print(\"{:<21} {:<17} {:<16} {:<10}\".format(round(avg_temperature,0), round(avg_humidity,0), round(avg_wind_speed,0), weather_condition))"
   ]
  },
  {
   "cell_type": "code",
   "execution_count": null,
   "id": "a4320243-320f-4dc2-b5fc-da9e8fe99c68",
   "metadata": {},
   "outputs": [],
   "source": []
  }
 ],
 "metadata": {
  "kernelspec": {
   "display_name": "Python 3 (ipykernel)",
   "language": "python",
   "name": "python3"
  },
  "language_info": {
   "codemirror_mode": {
    "name": "ipython",
    "version": 3
   },
   "file_extension": ".py",
   "mimetype": "text/x-python",
   "name": "python",
   "nbconvert_exporter": "python",
   "pygments_lexer": "ipython3",
   "version": "3.13.5"
  }
 },
 "nbformat": 4,
 "nbformat_minor": 5
}
